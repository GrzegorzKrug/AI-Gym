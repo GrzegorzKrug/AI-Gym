{
 "cells": [
  {
   "cell_type": "code",
   "execution_count": 1,
   "metadata": {},
   "outputs": [
    {
     "name": "stdout",
     "output_type": "stream",
     "text": [
      "Not found stats file.\n"
     ]
    }
   ],
   "source": [
    "import tensorflow as tf\n",
    "import os\n",
    "import matplotlib.pyplot as plt\n",
    "import matplotlib.image as mpim\n",
    "import numpy as np\n",
    "import random\n",
    "import cv2\n",
    "\n",
    "training_path = \"fruits-360_dataset/Training\"\n",
    "test_path = \"fruits-360_dataset/Test\"\n",
    "\n",
    "try:\n",
    "    STATS = np.load(\"stats.npy\", allow_pickle=True)\n",
    "except FileNotFoundError as fnf:\n",
    "    print(\"Not found stats file.\")\n",
    "    STATS = []\n",
    "\n",
    "# Parameters    \n",
    "GRAY_SCALE = False\n",
    "FRUITS = os.listdir(training_path)\n",
    "\n",
    "random.shuffle(FRUITS)\n",
    "FRUITS = FRUITS[:15] \n"
   ]
  },
  {
   "cell_type": "code",
   "execution_count": 2,
   "metadata": {
    "scrolled": false
   },
   "outputs": [],
   "source": [
    "def load_data(directory_path, fruit_restriction=None):\n",
    "    data = []\n",
    "    labels = []\n",
    "               \n",
    "            \n",
    "    for fruit_name in FRUITS:\n",
    "        class_num = FRUITS.index(fruit_name)                \n",
    "        \n",
    "        path = os.path.join(directory_path, fruit_name)\n",
    "        print(f\"Adding: {class_num:>3} {fruit_name:<20}, {path}\")\n",
    "        \n",
    "        for img in os.listdir(path):\n",
    "            img_path = os.path.join(path, img)\n",
    "            \n",
    "            if GRAY_SCALE:\n",
    "                image = cv2.imread(img_path, cv2.IMREAD_GRAYSCALE)\n",
    "            else:\n",
    "                image = mpim.imread(img_path)\n",
    "                \n",
    "            image = image / 255.0\n",
    "                    \n",
    "            data.append([image, class_num])\n",
    "\n",
    "#         print(FRUITS[class_num])\n",
    "#         plt.figure()    \n",
    "#         plt.imshow(image, cmap='gray')\n",
    "#         plt.show()\n",
    "        \n",
    "    random.shuffle(data)\n",
    "        \n",
    "    X = []\n",
    "    y = []\n",
    "    \n",
    "    \n",
    "    for image, label in data:\n",
    "        X.append(image)\n",
    "        y.append(label)\n",
    "    \n",
    "#     X = data[:, 0]\n",
    "#     y = data[:, 1]\n",
    "    X = np.array(X)\n",
    "    y = np.array(y)\n",
    "    \n",
    "    if GRAY_SCALE:\n",
    "        print(\"Reshaping gray scale\")\n",
    "        X = X.reshape(-1, X.shape[1], X.shape[2], 1)\n",
    "        \n",
    "    return X, y      "
   ]
  },
  {
   "cell_type": "code",
   "execution_count": 3,
   "metadata": {
    "scrolled": false
   },
   "outputs": [
    {
     "name": "stdout",
     "output_type": "stream",
     "text": [
      "Adding:   0 Potato Sweet        , fruits-360_dataset/Training/Potato Sweet\n",
      "Adding:   1 Walnut              , fruits-360_dataset/Training/Walnut\n",
      "Adding:   2 Nut Pecan           , fruits-360_dataset/Training/Nut Pecan\n",
      "Adding:   3 Cherry Wax Yellow   , fruits-360_dataset/Training/Cherry Wax Yellow\n",
      "Adding:   4 Grape White 3       , fruits-360_dataset/Training/Grape White 3\n",
      "Adding:   5 Lemon Meyer         , fruits-360_dataset/Training/Lemon Meyer\n",
      "Adding:   6 Cantaloupe 1        , fruits-360_dataset/Training/Cantaloupe 1\n",
      "Adding:   7 Maracuja            , fruits-360_dataset/Training/Maracuja\n",
      "Adding:   8 Apple Red 1         , fruits-360_dataset/Training/Apple Red 1\n",
      "Adding:   9 Orange              , fruits-360_dataset/Training/Orange\n",
      "Adding:  10 Potato Red          , fruits-360_dataset/Training/Potato Red\n",
      "Adding:  11 Potato White        , fruits-360_dataset/Training/Potato White\n",
      "Adding:  12 Avocado             , fruits-360_dataset/Training/Avocado\n",
      "Adding:  13 Papaya              , fruits-360_dataset/Training/Papaya\n",
      "Adding:  14 Peach               , fruits-360_dataset/Training/Peach\n",
      "\n",
      "Created training array\n",
      "X shape: (7101, 100, 100, 3)\n",
      "y shape: (7101,)\n"
     ]
    }
   ],
   "source": [
    "X_training, y_training = load_data(training_path)\n",
    "print(\"\\nCreated training array\")    \n",
    "print(f\"X shape: {X_training.shape}\")\n",
    "print(f\"y shape: {y_training.shape}\")"
   ]
  },
  {
   "cell_type": "code",
   "execution_count": 4,
   "metadata": {
    "scrolled": false
   },
   "outputs": [
    {
     "name": "stdout",
     "output_type": "stream",
     "text": [
      "Adding:   0 Potato Sweet        , fruits-360_dataset/Test/Potato Sweet\n",
      "Adding:   1 Walnut              , fruits-360_dataset/Test/Walnut\n",
      "Adding:   2 Nut Pecan           , fruits-360_dataset/Test/Nut Pecan\n",
      "Adding:   3 Cherry Wax Yellow   , fruits-360_dataset/Test/Cherry Wax Yellow\n",
      "Adding:   4 Grape White 3       , fruits-360_dataset/Test/Grape White 3\n",
      "Adding:   5 Lemon Meyer         , fruits-360_dataset/Test/Lemon Meyer\n",
      "Adding:   6 Cantaloupe 1        , fruits-360_dataset/Test/Cantaloupe 1\n",
      "Adding:   7 Maracuja            , fruits-360_dataset/Test/Maracuja\n",
      "Adding:   8 Apple Red 1         , fruits-360_dataset/Test/Apple Red 1\n",
      "Adding:   9 Orange              , fruits-360_dataset/Test/Orange\n",
      "Adding:  10 Potato Red          , fruits-360_dataset/Test/Potato Red\n",
      "Adding:  11 Potato White        , fruits-360_dataset/Test/Potato White\n",
      "Adding:  12 Avocado             , fruits-360_dataset/Test/Avocado\n",
      "Adding:  13 Papaya              , fruits-360_dataset/Test/Papaya\n",
      "Adding:  14 Peach               , fruits-360_dataset/Test/Peach\n",
      "\n",
      "Created test array\n",
      "X shape: (2496, 100, 100, 3)\n",
      "y shape: (2496,)\n"
     ]
    }
   ],
   "source": [
    "X_test, y_test = load_data(test_path)\n",
    "print(\"\\nCreated test array\")    \n",
    "print(f\"X shape: {X_test.shape}\")\n",
    "print(f\"y shape: {y_test.shape}\")"
   ]
  },
  {
   "cell_type": "code",
   "execution_count": 5,
   "metadata": {},
   "outputs": [],
   "source": [
    "# Limit gpu memory usage\n",
    "config = tf.compat.v1.ConfigProto()\n",
    "config.gpu_options.allow_growth = True\n",
    "config.gpu_options.per_process_gpu_memory_fraction = 0.2\n",
    "sess = tf.compat.v1.Session(config=config)"
   ]
  },
  {
   "cell_type": "code",
   "execution_count": 6,
   "metadata": {},
   "outputs": [
    {
     "name": "stdout",
     "output_type": "stream",
     "text": [
      "Pic shape: (100, 100, 3)\n",
      "Model: \"sequential\"\n",
      "_________________________________________________________________\n",
      "Layer (type)                 Output Shape              Param #   \n",
      "=================================================================\n",
      "conv2d (Conv2D)              (None, 98, 98, 64)        1792      \n",
      "_________________________________________________________________\n",
      "max_pooling2d (MaxPooling2D) (None, 49, 49, 64)        0         \n",
      "_________________________________________________________________\n",
      "dropout (Dropout)            (None, 49, 49, 64)        0         \n",
      "_________________________________________________________________\n",
      "conv2d_1 (Conv2D)            (None, 47, 47, 64)        36928     \n",
      "_________________________________________________________________\n",
      "max_pooling2d_1 (MaxPooling2 (None, 23, 23, 64)        0         \n",
      "_________________________________________________________________\n",
      "flatten (Flatten)            (None, 33856)             0         \n",
      "_________________________________________________________________\n",
      "dense (Dense)                (None, 32)                1083424   \n",
      "_________________________________________________________________\n",
      "dense_1 (Dense)              (None, 15)                495       \n",
      "=================================================================\n",
      "Total params: 1,122,639\n",
      "Trainable params: 1,122,639\n",
      "Non-trainable params: 0\n",
      "_________________________________________________________________\n"
     ]
    }
   ],
   "source": [
    "from tensorflow.keras.layers import Dense, Flatten, Conv2D, Conv3D, MaxPooling2D, MaxPooling3D, Activation, Dropout\n",
    "\n",
    "pic_shape = X_training.shape[1:]\n",
    "label_count = len(FRUITS)\n",
    "\n",
    "print(f\"Pic shape: {pic_shape}\")\n",
    "\n",
    "# Input\n",
    "model = tf.keras.models.Sequential([\n",
    "    Conv2D(64, (3, 3), activation='relu', input_shape=pic_shape),\n",
    "    MaxPooling2D(pool_size=(2, 2)),\n",
    "    \n",
    "    Dropout(0.2),\n",
    "    \n",
    "    Conv2D(64, (3, 3), activation='relu'),\n",
    "    MaxPooling2D(pool_size=(2, 2)),\n",
    "    \n",
    "    Flatten(),\n",
    "    Dense(32, activation='relu'),\n",
    "    Dense(label_count, activation='softmax')    \n",
    "])\n",
    "\n",
    "model.compile(optimizer='adam',\n",
    "              loss='sparse_categorical_crossentropy',\n",
    "              metrics=['accuracy'])\n",
    "\n",
    "model.summary()"
   ]
  },
  {
   "cell_type": "code",
   "execution_count": 7,
   "metadata": {},
   "outputs": [
    {
     "name": "stdout",
     "output_type": "stream",
     "text": [
      "Train on 7101 samples\n",
      "Epoch 1/3\n",
      "7101/7101 [==============================] - 8s 1ms/sample - loss: 0.5332 - accuracy: 0.8238\n",
      "Epoch 2/3\n",
      "7101/7101 [==============================] - 5s 679us/sample - loss: 0.0248 - accuracy: 0.9923\n",
      "Epoch 3/3\n",
      "7101/7101 [==============================] - 5s 674us/sample - loss: 0.0650 - accuracy: 0.9827\n"
     ]
    },
    {
     "data": {
      "text/plain": [
       "<tensorflow.python.keras.callbacks.History at 0x7fd0bc05dad0>"
      ]
     },
     "execution_count": 7,
     "metadata": {},
     "output_type": "execute_result"
    }
   ],
   "source": [
    "model.fit(X_training, y_training, batch_size=20, epochs=3)"
   ]
  },
  {
   "cell_type": "code",
   "execution_count": 17,
   "metadata": {},
   "outputs": [
    {
     "name": "stdout",
     "output_type": "stream",
     "text": [
      "2496/2496 [==============================] - 1s 253us/sample - loss: 0.2680 - accuracy: 0.8986\n",
      "Test Accuracy: 0.8986\n",
      "Test loss: 0.2680\n",
      "Incorrect predictions: 253\n"
     ]
    }
   ],
   "source": [
    "loss, accuracy = model.evaluate(X_test, y_test)\n",
    "predictions = model.predict(X_test)\n",
    "\n",
    "print(f\"Test Accuracy: {accuracy:>2.4f}\")\n",
    "print(f\"Test loss: {loss:>2.4f}\")\n",
    "\n",
    "count_incorrect = 0\n",
    "for x, predict in enumerate(predictions):\n",
    "    class_num = np.argmax(predict)\n",
    "    valid = y_test[x] == class_num\n",
    "    if not valid:\n",
    "        count_incorrect += 1\n",
    "print(f\"Incorrect predictions: {count_incorrect}\")       \n"
   ]
  },
  {
   "cell_type": "code",
   "execution_count": null,
   "metadata": {},
   "outputs": [],
   "source": []
  },
  {
   "cell_type": "code",
   "execution_count": null,
   "metadata": {},
   "outputs": [],
   "source": []
  }
 ],
 "metadata": {
  "kernelspec": {
   "display_name": "Python 3",
   "language": "python",
   "name": "python3"
  },
  "language_info": {
   "codemirror_mode": {
    "name": "ipython",
    "version": 3
   },
   "file_extension": ".py",
   "mimetype": "text/x-python",
   "name": "python",
   "nbconvert_exporter": "python",
   "pygments_lexer": "ipython3",
   "version": "3.7.7"
  }
 },
 "nbformat": 4,
 "nbformat_minor": 4
}
