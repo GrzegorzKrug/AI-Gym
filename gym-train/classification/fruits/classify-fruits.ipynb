{
 "cells": [
  {
   "cell_type": "code",
   "execution_count": null,
   "metadata": {},
   "outputs": [],
   "source": [
    "import tensorflow as tf\n",
    "import os\n",
    "import matplotlib.pyplot as plt\n",
    "import matplotlib.image as mpim\n",
    "import numpy as np\n",
    "import random\n",
    "import cv2\n",
    "\n",
    "training_path = \"fruits-360_dataset/Training\"\n",
    "test_path = \"fruits-360_dataset/Test\"\n",
    "\n",
    "try:\n",
    "    STATS = np.load(\"stats.npy\", allow_pickle=True)\n",
    "except FileNotFoundError as fnf:\n",
    "    print(\"Not found stats file.\")\n",
    "    STATS = []\n",
    "\n",
    "# Parameters    \n",
    "GRAY_SCALE = False\n",
    "FRUITS = os.listdir(training_path)\n",
    "\n",
    "random.shuffle(FRUITS)\n",
    "FRUITS = FRUITS[:15] \n"
   ]
  },
  {
   "cell_type": "code",
   "execution_count": null,
   "metadata": {
    "scrolled": false
   },
   "outputs": [],
   "source": [
    "def load_data(directory_path, fruit_restriction=None):\n",
    "    data = []\n",
    "    labels = []\n",
    "               \n",
    "            \n",
    "    for fruit_name in FRUITS:\n",
    "        class_num = FRUITS.index(fruit_name)                \n",
    "        \n",
    "        path = os.path.join(directory_path, fruit_name)\n",
    "        print(f\"Adding: {class_num:>3} {fruit_name:<20}, {path}\")\n",
    "        \n",
    "        for img in os.listdir(path):\n",
    "            img_path = os.path.join(path, img)\n",
    "            \n",
    "            if GRAY_SCALE:\n",
    "                image = cv2.imread(img_path, cv2.IMREAD_GRAYSCALE)\n",
    "            else:\n",
    "                image = mpim.imread(img_path)\n",
    "                \n",
    "            image = image / 255.0\n",
    "                    \n",
    "            data.append([image, class_num])\n",
    "\n",
    "#         print(FRUITS[class_num])\n",
    "#         plt.figure()    \n",
    "#         plt.imshow(image, cmap='gray')\n",
    "#         plt.show()\n",
    "        \n",
    "    random.shuffle(data)\n",
    "        \n",
    "    X = []\n",
    "    y = []\n",
    "    \n",
    "    \n",
    "    for image, label in data:\n",
    "        X.append(image)\n",
    "        y.append(label)\n",
    "    \n",
    "#     X = data[:, 0]\n",
    "#     y = data[:, 1]\n",
    "    X = np.array(X)\n",
    "    y = np.array(y)\n",
    "    \n",
    "    if GRAY_SCALE:\n",
    "        print(\"Reshaping gray scale\")\n",
    "        X = X.reshape(-1, X.shape[1], X.shape[2], 1)\n",
    "        \n",
    "    return X, y      "
   ]
  },
  {
   "cell_type": "code",
   "execution_count": null,
   "metadata": {
    "scrolled": false
   },
   "outputs": [],
   "source": [
    "X_training, y_training = load_data(training_path)\n",
    "print(\"\\nCreated training array\")    \n",
    "print(f\"X shape: {X_training.shape}\")\n",
    "print(f\"y shape: {y_training.shape}\")"
   ]
  },
  {
   "cell_type": "code",
   "execution_count": null,
   "metadata": {
    "scrolled": false
   },
   "outputs": [],
   "source": [
    "X_test, y_test = load_data(test_path)\n",
    "print(\"\\nCreated test array\")    \n",
    "print(f\"X shape: {X_test.shape}\")\n",
    "print(f\"y shape: {y_test.shape}\")"
   ]
  },
  {
   "cell_type": "code",
   "execution_count": null,
   "metadata": {},
   "outputs": [],
   "source": [
    "# Limit gpu memory usage\n",
    "config = tf.compat.v1.ConfigProto()\n",
    "config.gpu_options.allow_growth = True\n",
    "config.gpu_options.per_process_gpu_memory_fraction = 0.2\n",
    "sess = tf.compat.v1.Session(config=config)"
   ]
  },
  {
   "cell_type": "code",
   "execution_count": null,
   "metadata": {},
   "outputs": [],
   "source": [
    "from tensorflow.keras.layers import Dense, Flatten, Conv2D, Conv3D, MaxPooling2D, MaxPooling3D, Activation, Dropout\n",
    "\n",
    "pic_shape = X_training.shape[1:]\n",
    "label_count = len(FRUITS)\n",
    "\n",
    "print(f\"Pic shape: {pic_shape}\")\n",
    "\n",
    "# Input\n",
    "model = tf.keras.models.Sequential([\n",
    "    Conv2D(64, (3, 3), activation='relu', input_shape=pic_shape),\n",
    "    MaxPooling2D(pool_size=(2, 2)),\n",
    "    \n",
    "    Conv2D(64, (3, 3), activation='relu'),\n",
    "    MaxPooling2D(pool_size=(2, 2)),\n",
    "    \n",
    "    Dropout(0.2),\n",
    "    \n",
    "    Flatten(),\n",
    "    Dense(32, activation='relu'),\n",
    "    Dense(label_count, activation='softmax')    \n",
    "])\n",
    "\n",
    "model.compile(optimizer='adam',\n",
    "              loss='sparse_categorical_crossentropy',\n",
    "              metrics=['accuracy'])\n",
    "\n",
    "model.summary()"
   ]
  },
  {
   "cell_type": "code",
   "execution_count": null,
   "metadata": {},
   "outputs": [],
   "source": [
    "model.fit(X_training, y_training, batch_size=20, epochs=3)"
   ]
  },
  {
   "cell_type": "code",
   "execution_count": null,
   "metadata": {},
   "outputs": [],
   "source": [
    "loss, accuracy = model.evaluate(X_test, y_test)\n",
    "predictions = model.predict(X_test)\n",
    "\n",
    "print(f\"Test Accuracy: {accuracy:>2.4f}\")\n",
    "print(f\"Test loss: {loss:>2.4f}\")\n",
    "\n",
    "count_incorrect = 0\n",
    "for x, predict in enumerate(predictions):\n",
    "    class_num = np.argmax(predict)\n",
    "    valid = y_test[x] == class_num\n",
    "    if not valid:\n",
    "        count_incorrect += 1\n",
    "print(f\"Incorrect predictions: {count_incorrect}\")       \n"
   ]
  },
  {
   "cell_type": "code",
   "execution_count": null,
   "metadata": {},
   "outputs": [],
   "source": []
  },
  {
   "cell_type": "code",
   "execution_count": null,
   "metadata": {},
   "outputs": [],
   "source": []
  }
 ],
 "metadata": {
  "kernelspec": {
   "display_name": "Python 3",
   "language": "python",
   "name": "python3"
  },
  "language_info": {
   "codemirror_mode": {
    "name": "ipython",
    "version": 3
   },
   "file_extension": ".py",
   "mimetype": "text/x-python",
   "name": "python",
   "nbconvert_exporter": "python",
   "pygments_lexer": "ipython3",
   "version": "3.7.7"
  }
 },
 "nbformat": 4,
 "nbformat_minor": 4
}
