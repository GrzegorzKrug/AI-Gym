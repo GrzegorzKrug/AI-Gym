{
 "cells": [
  {
   "cell_type": "code",
   "execution_count": 1,
   "metadata": {},
   "outputs": [
    {
     "name": "stdout",
     "output_type": "stream",
     "text": [
      "Not found stats file.\n"
     ]
    }
   ],
   "source": [
    "#import tensorflow as tf\n",
    "import numpy as np\n",
    "import os\n",
    "import cv2\n",
    "import matplotlib.pyplot as plt\n",
    "import matplotlib.image as mpim\n",
    "\n",
    "try:\n",
    "    STATS = np.load(\"stats.npy\", allow_pickle=True)\n",
    "except FileNotFoundError as fnf:\n",
    "    print(\"Not found stats file.\")\n",
    "    STATS = []\n",
    "    \n",
    "FRUITS = ['Grapefruit Pink', 'Grapefruit White', 'Limes','Lemon', 'Mandarine',\n",
    "          'Avocado', 'Mango', 'Mango Red', 'Maracuja', 'Guava']\n",
    "\n",
    "training_path = \"fruits-360_dataset/Training\"\n",
    "test_path = \"fruits-360_dataset/Test\""
   ]
  },
  {
   "cell_type": "code",
   "execution_count": 2,
   "metadata": {
    "scrolled": false
   },
   "outputs": [],
   "source": [
    "def load_data(directory_path, fruit_restriction=None):\n",
    "    X = []\n",
    "    y = []\n",
    "\n",
    "    labels = []\n",
    "    for i, label in enumerate(os.listdir(directory_path)):\n",
    "            labels.append(label)\n",
    "\n",
    "    for label in labels:\n",
    "        if FRUITS and label not in FRUITS:\n",
    "            continue\n",
    "        print(f\"Adding: {label}\")\n",
    "        class_num = labels.index(label)\n",
    "        path = os.path.join(directory_path, label)\n",
    "        for img in os.listdir(path):\n",
    "            img_path = os.path.join(path, img)\n",
    "\n",
    "            image = mpim.imread(img_path)\n",
    "\n",
    "            X.append(image)\n",
    "            y.append(class_num)\n",
    "\n",
    "\n",
    "#         plt.figure()    \n",
    "#         plt.imshow(image, cmap='gray')\n",
    "#         plt.show()\n",
    "\n",
    "    X = np.array(X)        \n",
    "    y = np.array(y)\n",
    "    \n",
    "    return X, y      "
   ]
  },
  {
   "cell_type": "code",
   "execution_count": 3,
   "metadata": {},
   "outputs": [
    {
     "name": "stdout",
     "output_type": "stream",
     "text": [
      "Adding: Limes\n",
      "Adding: Grapefruit Pink\n",
      "Adding: Mandarine\n",
      "Adding: Mango\n",
      "Adding: Mango Red\n",
      "Adding: Lemon\n",
      "Adding: Avocado\n",
      "Adding: Guava\n",
      "Adding: Grapefruit White\n",
      "Adding: Maracuja\n",
      "\n",
      "Created training array\n",
      "X shape: (4777, 100, 100, 3)\n",
      "y shape: (4777,)\n"
     ]
    }
   ],
   "source": [
    "X_training, y_training = load_data(training_path)\n",
    "print(\"\\nCreated training array\")    \n",
    "print(f\"X shape: {X_training.shape}\")\n",
    "print(f\"y shape: {y_training.shape}\")"
   ]
  },
  {
   "cell_type": "code",
   "execution_count": 4,
   "metadata": {},
   "outputs": [
    {
     "name": "stdout",
     "output_type": "stream",
     "text": [
      "Adding: Limes\n",
      "Adding: Grapefruit Pink\n",
      "Adding: Mandarine\n",
      "Adding: Mango\n",
      "Adding: Mango Red\n",
      "Adding: Lemon\n",
      "Adding: Avocado\n",
      "Adding: Guava\n",
      "Adding: Grapefruit White\n",
      "Adding: Maracuja\n",
      "\n",
      "Created test array\n",
      "X shape: (1609, 100, 100, 3)\n",
      "y shape: (1609,)\n"
     ]
    }
   ],
   "source": [
    "X_test, y_test = load_data(test_path)\n",
    "print(\"\\nCreated test array\")    \n",
    "print(f\"X shape: {X_test.shape}\")\n",
    "print(f\"y shape: {y_test.shape}\")"
   ]
  },
  {
   "cell_type": "code",
   "execution_count": null,
   "metadata": {},
   "outputs": [],
   "source": []
  }
 ],
 "metadata": {
  "kernelspec": {
   "display_name": "Python 3",
   "language": "python",
   "name": "python3"
  },
  "language_info": {
   "codemirror_mode": {
    "name": "ipython",
    "version": 3
   },
   "file_extension": ".py",
   "mimetype": "text/x-python",
   "name": "python",
   "nbconvert_exporter": "python",
   "pygments_lexer": "ipython3",
   "version": "3.7.7"
  }
 },
 "nbformat": 4,
 "nbformat_minor": 4
}
