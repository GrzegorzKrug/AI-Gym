{
 "cells": [
  {
   "cell_type": "code",
   "execution_count": null,
   "metadata": {},
   "outputs": [],
   "source": [
    "import tensorflow as tf\n",
    "from tensorflow.keras.callbacks import TensorBoard\n",
    "\n",
    "import os\n",
    "import matplotlib.pyplot as plt\n",
    "import numpy as np\n",
    "import random\n",
    "import cv2\n",
    "import time\n",
    "\n",
    "\n",
    "training_path = \"fruits-360_dataset/Training\"\n",
    "test_path = \"fruits-360_dataset/Test\"\n",
    "\n",
    "try:\n",
    "    STATS = np.load(\"stats.npy\", allow_pickle=True)\n",
    "except FileNotFoundError as fnf:\n",
    "    print(\"Not found stats file.\")\n",
    "    STATS = []\n",
    "\n",
    "# Parameters    \n",
    "GRAY_SCALE = False\n",
    "FRUITS = os.listdir(training_path)\n",
    "\n",
    "random.shuffle(FRUITS)\n",
    "train_load = 0.15\n",
    "test_load = 0.15\n",
    "\n",
    "model_name = f\"fruits-15%-with-98stop-validation-{len(FRUITS)}-{time.time():10.0f}\"\n",
    "print(f\"Model name '{model_name}'\")\n",
    "\n",
    "tensorboard = TensorBoard(log_dir=f'logs/{model_name}')"
   ]
  },
  {
   "cell_type": "code",
   "execution_count": null,
   "metadata": {
    "scrolled": false
   },
   "outputs": [],
   "source": [
    "def load_data(directory_path, load_factor=None):\n",
    "    data = []\n",
    "    labels = []\n",
    "               \n",
    "            \n",
    "    for fruit_name in FRUITS:\n",
    "        class_num = FRUITS.index(fruit_name)                \n",
    "        \n",
    "        path = os.path.join(directory_path, fruit_name)\n",
    "        \n",
    "        for img in os.listdir(path):\n",
    "            if load_factor and np.random.random() > load_factor:  # skip image\n",
    "                continue\n",
    "                \n",
    "            img_path = os.path.join(path, img)    \n",
    "            if GRAY_SCALE:\n",
    "                image = cv2.imread(img_path, cv2.IMREAD_GRAYSCALE)\n",
    "            else:\n",
    "                image = cv2.imread(img_path)\n",
    "                image = image[:, :, [2, 1, 0]]\n",
    "                \n",
    "#             image = tf.keras.utils.normalize(image)  # This is normalizes 0 to gray color\n",
    "            image = image / 255.0\n",
    "            data.append([image, class_num])\n",
    "\n",
    "    random.shuffle(data)\n",
    "        \n",
    "    X = []\n",
    "    y = []\n",
    "    \n",
    "    \n",
    "    for image, label in data:\n",
    "        X.append(image)\n",
    "        y.append(label)\n",
    "    \n",
    "    X = np.array(X)\n",
    "    y = np.array(y)\n",
    "    \n",
    "    if GRAY_SCALE:\n",
    "        print(\"Reshaping gray scale\")\n",
    "        X = X.reshape(-1, X.shape[1], X.shape[2], 1)\n",
    "        \n",
    "    return X, y      "
   ]
  },
  {
   "cell_type": "code",
   "execution_count": null,
   "metadata": {
    "scrolled": false
   },
   "outputs": [],
   "source": [
    "X_training, y_training = load_data(training_path, load_factor=train_load)\n",
    "print(\"Created training array\")    \n",
    "print(f\"X shape: {X_training.shape}\")\n",
    "print(f\"y shape: {y_training.shape}\")"
   ]
  },
  {
   "cell_type": "code",
   "execution_count": null,
   "metadata": {
    "scrolled": false
   },
   "outputs": [],
   "source": [
    "X_test, y_test = load_data(test_path, load_factor=test_load)\n",
    "\n",
    "print(\"Created test arrays\")    \n",
    "print(f\"X shape: {X_test.shape}\")\n",
    "print(f\"y shape: {y_test.shape}\")"
   ]
  },
  {
   "cell_type": "code",
   "execution_count": null,
   "metadata": {},
   "outputs": [],
   "source": [
    "class AfterTwoEpochStop(tf.keras.callbacks.Callback):\n",
    "    def __init__(self, threshold):\n",
    "#         super(AfterTwoEpochStop, self).__init__()\n",
    "        self.threshold = threshold\n",
    "        self.checked = False\n",
    "        print(\"Init\")\n",
    "\n",
    "    def on_epoch_end(self, epoch, logs=None): \n",
    "        val_acc = logs[\"accuracy\"]        \n",
    "        if val_acc >= self.threshold:\n",
    "            if self.checked:\n",
    "                self.model.stop_training = True\n",
    "            else:\n",
    "                self.checked = True\n",
    "        else:\n",
    "            self.checked = False\n",
    "\n",
    "stop = AfterTwoEpochStop(0.98)                "
   ]
  },
  {
   "cell_type": "code",
   "execution_count": null,
   "metadata": {},
   "outputs": [],
   "source": [
    "# Limit gpu memory usage\n",
    "config = tf.compat.v1.ConfigProto()\n",
    "config.gpu_options.allow_growth = False\n",
    "config.gpu_options.per_process_gpu_memory_fraction = 0.25\n",
    "sess = tf.compat.v1.Session(config=config)"
   ]
  },
  {
   "cell_type": "code",
   "execution_count": null,
   "metadata": {
    "scrolled": false
   },
   "outputs": [],
   "source": [
    "from tensorflow.keras.layers import Dense, Flatten, Conv2D, Conv3D, MaxPooling2D, MaxPooling3D, Activation, Dropout\n",
    "\n",
    "pic_shape = X_training.shape[1:]\n",
    "label_count = len(FRUITS)\n",
    "\n",
    "print(f\"Pic shape: {pic_shape}\")\n",
    "\n",
    "# Input\n",
    "model = tf.keras.models.Sequential([\n",
    "    Conv2D(64, (3, 3), activation='relu', input_shape=pic_shape),\n",
    "    MaxPooling2D(pool_size=(2, 2)),\n",
    "    \n",
    "#     Dropout(0.25),\n",
    "    \n",
    "    Conv2D(64, (3, 3), activation='relu'),\n",
    "    MaxPooling2D(pool_size=(2, 2)),\n",
    "    \n",
    "    Dropout(0.25),\n",
    "    \n",
    "    Flatten(),\n",
    "    Dense(64, activation='relu'),\n",
    "    Dense(label_count, activation='softmax')    \n",
    "])\n",
    "\n",
    "model.compile(optimizer='adam',\n",
    "              loss='sparse_categorical_crossentropy',\n",
    "              metrics=['accuracy'])\n",
    "\n",
    "model.summary()"
   ]
  },
  {
   "cell_type": "code",
   "execution_count": null,
   "metadata": {
    "scrolled": false
   },
   "outputs": [],
   "source": [
    "history = model.fit(X_training, y_training, \n",
    "                             batch_size=25, epochs=15,\n",
    "                             validation_data=(X_test, y_test),\n",
    "                             callbacks=[tensorboard, stop])"
   ]
  },
  {
   "cell_type": "code",
   "execution_count": null,
   "metadata": {},
   "outputs": [],
   "source": [
    "loss = history.history['loss']\n",
    "accuracy = history.history['accuracy']\n",
    "\n",
    "val_loss = history.history['val_loss']\n",
    "val_accuracy = history.history['val_accuracy']\n",
    "\n",
    "print(f\"Test Accuracy: {accuracy[-1]:>2.4f}\")\n",
    "print(f\"Test loss: {loss[-1]:>2.4f}\")"
   ]
  },
  {
   "cell_type": "code",
   "execution_count": null,
   "metadata": {},
   "outputs": [],
   "source": [
    "predictions = model.predict(X_test)"
   ]
  },
  {
   "cell_type": "code",
   "execution_count": null,
   "metadata": {},
   "outputs": [],
   "source": [
    "fig = plt.figure(figsize=(14, 14))\n",
    "for x in range(1,26):\n",
    "    class_num = np.argmax(predictions[x])\n",
    "    valid = y_test[x] == class_num\n",
    "    ax = fig.add_subplot(5, 5, x)\n",
    "    ax.imshow(X_test[x])\n",
    "    ax.xaxis.set_visible(False)\n",
    "    ax.yaxis.set_visible(False)\n",
    "    \n",
    "    title = FRUITS[class_num] + (\"\\ninvalid classification\" if not valid else \"\")\n",
    "    ax.set_title(title, size=13)\n",
    "\n",
    "last_val_accuracy = val_accuracy[-1]\n",
    "    \n",
    "fig.subplots_adjust(hspace=0.95)\n",
    "fig.suptitle(f\"validation accuracy: {last_val_accuracy:>2.3f} \\nvalidation samples: {len(X_test)}\", size=25)\n",
    "fig.savefig(\"last-validation.png\")\n",
    "# fig.show()"
   ]
  },
  {
   "cell_type": "code",
   "execution_count": null,
   "metadata": {},
   "outputs": [],
   "source": [
    "SMOOTH = False\n",
    "\n",
    "epochs = history.epoch\n",
    "\n",
    "\n",
    "\n",
    "# if SMOOTH:    \n",
    "#     from scipy.interpolate import CubicSpline\n",
    "#     cs_loss = CubicSpline(epochs, loss)\n",
    "#     cs_acc = CubicSpline(epochs, acc)\n",
    "    \n",
    "#     x = np.linspace(0, epochs[-1], 100)\n",
    "#     y_loss = cs_loss(x)\n",
    "#     y_acc = cs_acc(x)\n",
    "\n",
    "# else:\n",
    "#     x = epochs\n",
    "#     y_loss = loss\n",
    "#     y_acc = acc\n",
    "    \n",
    "fig = plt.figure(figsize=(16,9))\n",
    "\n",
    "ax1 = plt.subplot(2,1,1)\n",
    "\n",
    "plt.plot(loss, label='loss', c='r')\n",
    "plt.plot(val_loss, label='validation-loss', c='g')\n",
    "plt.legend(loc='best')\n",
    "plt.grid()\n",
    "\n",
    "plt.subplot(2,1,2)\n",
    "plt.plot(accuracy, label='accuracy', c='r')\n",
    "plt.plot(val_accuracy, label='validation-accuracy', c='g')\n",
    "plt.legend(loc='best')\n",
    "plt.xlabel(\"Epochs\")\n",
    "plt.grid()\n",
    "\n",
    "title = f\"Classification of {len(FRUITS)} fruits\".replace(' ', '-')\n",
    "fig.suptitle(title, size=20)\n",
    "pic_name = ax.get_title().replace(' ', '-')\n",
    "plt.savefig(f\"{title}.png\")\n",
    "plt.show()"
   ]
  },
  {
   "cell_type": "code",
   "execution_count": null,
   "metadata": {},
   "outputs": [],
   "source": [
    "# Free memory\n",
    "# X_training = None\n",
    "# y_training = None\n",
    "\n",
    "# X_test = None\n",
    "# y_test = None"
   ]
  },
  {
   "cell_type": "code",
   "execution_count": null,
   "metadata": {},
   "outputs": [],
   "source": []
  },
  {
   "cell_type": "code",
   "execution_count": null,
   "metadata": {},
   "outputs": [],
   "source": []
  }
 ],
 "metadata": {
  "kernelspec": {
   "display_name": "Python 3",
   "language": "python",
   "name": "python3"
  },
  "language_info": {
   "codemirror_mode": {
    "name": "ipython",
    "version": 3
   },
   "file_extension": ".py",
   "mimetype": "text/x-python",
   "name": "python",
   "nbconvert_exporter": "python",
   "pygments_lexer": "ipython3",
   "version": "3.7.7"
  }
 },
 "nbformat": 4,
 "nbformat_minor": 4
}
