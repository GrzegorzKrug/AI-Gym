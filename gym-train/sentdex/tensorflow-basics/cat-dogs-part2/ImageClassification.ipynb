{
 "cells": [
  {
   "cell_type": "code",
   "execution_count": 1,
   "metadata": {},
   "outputs": [],
   "source": [
    "import numpy as np\n",
    "import matplotlib.pyplot as plt\n",
    "import os\n",
    "import cv2\n",
    "\n",
    "# PROJECT_DIR = \"./cat-dogs-part2\"\n",
    "DATA_DIR = \"./PetImages\"\n",
    "CATEGORIES = [\"Dog\", \"Cat\"]\n",
    "IM_SIZE = 60"
   ]
  },
  {
   "cell_type": "code",
   "execution_count": null,
   "metadata": {},
   "outputs": [],
   "source": [
    "training_data = []\n",
    "\n",
    "def create_training_data():\n",
    "    for category in CATEGORIES:                \n",
    "        path = os.path.join(DATA_DIR, category)\n",
    "        class_num = CATEGORIES.index(category)\n",
    "        \n",
    "        for img in os.listdir(path):\n",
    "            try:\n",
    "                img_array = cv2.imread(os.path.join(path, img), cv2.IMREAD_GRAYSCALE)\n",
    "                new_array = cv2.resize(img_array, (IM_SIZE, IM_SIZE))\n",
    "                training_data.append([new_array, class_num])\n",
    "            except Exception as e:\n",
    "                pass\n",
    "                # print(f\"broken image: {path}/{img}\")\n",
    "            \n",
    "    print(\"Created training data!\")\n",
    "    \n",
    "\n",
    "create_training_data()"
   ]
  },
  {
   "cell_type": "code",
   "execution_count": null,
   "metadata": {},
   "outputs": [],
   "source": [
    "# Balance data 50% cat and 50% dogs if possible\n",
    "# Shuffle data!\n",
    "import random\n",
    "\n",
    "random.shuffle(training_data)\n",
    "\n",
    "X = []\n",
    "y = []\n",
    "\n",
    "for features, label in training_data:\n",
    "    X.append(features)\n",
    "    y.append(label)\n",
    "\n",
    "X = np.array(X).reshape(-1, IM_SIZE, IM_SIZE, 1)\n",
    "\n",
    "\n",
    "plt.imshow(X[0, :, :, 0], cmap='gray')\n",
    "print(\"Random animal:\")\n",
    "plt.show()"
   ]
  },
  {
   "cell_type": "code",
   "execution_count": null,
   "metadata": {},
   "outputs": [],
   "source": [
    "np.save(\"training_X.npy\", X)\n",
    "np.save(\"training_y.npy\", y)"
   ]
  },
  {
   "cell_type": "code",
   "execution_count": 2,
   "metadata": {},
   "outputs": [],
   "source": [
    "X = np.load(\"training_X.npy\")\n",
    "y = np.load(\"training_y.npy\")"
   ]
  },
  {
   "cell_type": "code",
   "execution_count": 3,
   "metadata": {},
   "outputs": [
    {
     "data": {
      "image/png": "[encoded data removed]",
      "text/plain": [
       "<Figure size 432x288 with 1 Axes>"
      ]
     },
     "metadata": {
      "needs_background": "light"
     },
     "output_type": "display_data"
    },
    {
     "name": "stdout",
     "output_type": "stream",
     "text": [
      "(24946, 60, 60, 1)\n",
      "(24946,)\n"
     ]
    }
   ],
   "source": [
    "plt.imshow(X[0][:, :, 0], cmap='gray')\n",
    "plt.show()\n",
    "\n",
    "print(X.shape)\n",
    "print(y.shape)"
   ]
  },
  {
   "cell_type": "code",
   "execution_count": 18,
   "metadata": {},
   "outputs": [
    {
     "name": "stdout",
     "output_type": "stream",
     "text": [
      "Train on 12473 samples, validate on 12473 samples\n",
      "Epoch 1/2\n",
      "12473/12473 [==============================] - 4s 321us/sample - loss: 0.6730 - accuracy: 0.5649 - val_loss: 0.6362 - val_accuracy: 0.6530\n",
      "Epoch 2/2\n",
      "12473/12473 [==============================] - 4s 291us/sample - loss: 0.6234 - accuracy: 0.6558 - val_loss: 0.6487 - val_accuracy: 0.6307\n",
      "24946/24946 [==============================] - 3s 109us/sample - loss: 0.6447 - accuracy: 0.6316\n",
      "End\n"
     ]
    }
   ],
   "source": [
    "import tensorflow as tf\n",
    "from tensorflow.keras.models import Sequential\n",
    "from tensorflow.keras.layers import Dense, Dropout, Activation, Flatten, Conv2D, MaxPooling2D\n",
    "\n",
    "X = tf.keras.utils.normalize(X, axis=1)\n",
    "# X = X / 255.0\n",
    "\n",
    "\n",
    "config = tf.compat.v1.ConfigProto()\n",
    "config.gpu_options.allow_growth = True\n",
    "config.gpu_options.per_process_gpu_memory_fraction = 0.4\n",
    "session = tf.compat.v1.Session(config=config)\n",
    "\n",
    "\n",
    "with session as sess:\n",
    "    model = Sequential()\n",
    "    # Input layer\n",
    "    model.add(Conv2D(64, (3, 3), input_shape = X.shape[1:]))\n",
    "    model.add(Activation(\"relu\"))\n",
    "    model.add(MaxPooling2D(pool_size=(2, 2)))\n",
    "\n",
    "    # Layer\n",
    "    model.add(Conv2D(64, (3, 3)))\n",
    "    model.add(Activation(\"relu\"))\n",
    "    model.add(MaxPooling2D(pool_size=(2, 2)))\n",
    "\n",
    "    # Flatten Layer\n",
    "    model.add(Flatten())\n",
    "    model.add(Dense(64))\n",
    "\n",
    "    # Output layer\n",
    "    model.add(Dense(1))\n",
    "    model.add(Activation(\"sigmoid\"))\n",
    "\n",
    "    model.compile(loss=\"binary_crossentropy\",\n",
    "                 optimizer=\"adam\",\n",
    "                 metrics=[\"accuracy\"])\n",
    "    \n",
    "    model.fit(X, y, batch_size=50, validation_split=0.5, epochs=2)\n",
    "    val_loss, val_accuracy = model.evaluate(X, y)\n",
    "\n",
    "    sess.close()\n",
    "print(\"End\")"
   ]
  },
  {
   "cell_type": "code",
   "execution_count": 15,
   "metadata": {},
   "outputs": [
    {
     "name": "stdout",
     "output_type": "stream",
     "text": [
      "\n",
      "Loss: 0.50832\n",
      "Accuracy: 0.75952\n"
     ]
    }
   ],
   "source": [
    "\n",
    "\n",
    "print()\n",
    "print(f\"Loss: {val_loss:>5.5f}\")\n",
    "print(f\"Accuracy: {val_accuracy:>5.5f}\")"
   ]
  },
  {
   "cell_type": "code",
   "execution_count": null,
   "metadata": {},
   "outputs": [],
   "source": []
  }
 ],
 "metadata": {
  "kernelspec": {
   "display_name": "Python 3",
   "language": "python",
   "name": "python3"
  },
  "language_info": {
   "codemirror_mode": {
    "name": "ipython",
    "version": 3
   },
   "file_extension": ".py",
   "mimetype": "text/x-python",
   "name": "python",
   "nbconvert_exporter": "python",
   "pygments_lexer": "ipython3",
   "version": "3.7.7"
  }
 },
 "nbformat": 4,
 "nbformat_minor": 4
}
