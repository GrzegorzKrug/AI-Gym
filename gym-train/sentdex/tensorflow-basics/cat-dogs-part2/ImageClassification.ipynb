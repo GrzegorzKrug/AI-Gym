{
 "cells": [
  {
   "cell_type": "code",
   "execution_count": 1,
   "metadata": {},
   "outputs": [],
   "source": [
    "import numpy as np\n",
    "import matplotlib.pyplot as plt\n",
    "import os\n",
    "import cv2\n",
    "\n",
    "PROJECT_DIR = \"./cat-dogs-part2\"\n",
    "DATA_DIR = PROJECT_DIR + \"/PetImages\"\n",
    "CATEGORIES = [\"Dog\", \"Cat\"]\n"
   ]
  },
  {
   "cell_type": "code",
   "execution_count": 2,
   "metadata": {},
   "outputs": [
    {
     "name": "stdout",
     "output_type": "stream",
     "text": [
      "Created training data!\n"
     ]
    }
   ],
   "source": [
    "training_data = []\n",
    "IM_SIZE = 50\n",
    "\n",
    "def create_training_data():\n",
    "    for category in CATEGORIES:                \n",
    "        path = os.path.join(DATA_DIR, category)\n",
    "        class_num = CATEGORIES.index(category)\n",
    "        \n",
    "        for img in os.listdir(path):\n",
    "            try:\n",
    "                img_array = cv2.imread(os.path.join(path, img), cv2.IMREAD_GRAYSCALE)\n",
    "                new_array = cv2.resize(img_array, (IM_SIZE, IM_SIZE))\n",
    "                training_data.append([new_array, class_num])\n",
    "            except Exception as e:\n",
    "                pass\n",
    "                # print(f\"broken image: {path}/{img}\")\n",
    "            \n",
    "    print(\"Created training data!\")\n",
    "    \n",
    "\n",
    "create_training_data()"
   ]
  },
  {
   "cell_type": "code",
   "execution_count": 3,
   "metadata": {},
   "outputs": [
    {
     "name": "stdout",
     "output_type": "stream",
     "text": [
      "Random animal:\n"
     ]
    },
    {
     "data": {
      "image/png": "[encoded data removed]",
      "text/plain": [
       "<Figure size 432x288 with 1 Axes>"
      ]
     },
     "metadata": {
      "needs_background": "light"
     },
     "output_type": "display_data"
    }
   ],
   "source": [
    "# Balance data 50% cat and 50% dogs if possible\n",
    "# Shuffle data!\n",
    "import random\n",
    "\n",
    "random.shuffle(training_data)\n",
    "plt.imshow(training_data[0][0], cmap='gray')\n",
    "print(\"Random animal:\")\n",
    "plt.show()"
   ]
  },
  {
   "cell_type": "code",
   "execution_count": 4,
   "metadata": {},
   "outputs": [],
   "source": [
    "X = []\n",
    "y = []\n",
    "\n",
    "for features, label in training_data:\n",
    "    X.append(features)\n",
    "    y.append(label)\n",
    "\n",
    "X = np.array(X).reshape(-1, IM_SIZE, IM_SIZE, 1)  # \n"
   ]
  },
  {
   "cell_type": "code",
   "execution_count": 5,
   "metadata": {},
   "outputs": [],
   "source": [
    "np.save(PROJECT_DIR + \"/training_X.npy\", X)\n",
    "np.save(PROJECT_DIR + \"/training_y.npy\", y)"
   ]
  },
  {
   "cell_type": "code",
   "execution_count": 6,
   "metadata": {},
   "outputs": [],
   "source": [
    "X = np.load(PROJECT_DIR + \"/training_X.npy\")\n",
    "y = np.load(PROJECT_DIR + \"/training_y.npy\")"
   ]
  },
  {
   "cell_type": "code",
   "execution_count": 7,
   "metadata": {},
   "outputs": [
    {
     "data": {
      "image/png": "[encoded data removed]",
      "text/plain": [
       "<Figure size 432x288 with 1 Axes>"
      ]
     },
     "metadata": {
      "needs_background": "light"
     },
     "output_type": "display_data"
    },
    {
     "name": "stdout",
     "output_type": "stream",
     "text": [
      "(24946, 50, 50, 1)\n",
      "(24946,)\n"
     ]
    }
   ],
   "source": [
    "plt.imshow(X[0][:, :, 0], cmap='gray')\n",
    "plt.show()\n",
    "\n",
    "print(X.shape)\n",
    "print(y.shape)"
   ]
  },
  {
   "cell_type": "code",
   "execution_count": 10,
   "metadata": {},
   "outputs": [],
   "source": [
    "import tensorflow as tf\n",
    "from tensorflow.keras.models import Sequential\n",
    "from tensorflow.keras.layers import Dense, Dropout, Activation, Flatten, Conv2D, MaxPooling2D\n",
    "\n",
    "X = tf.keras.utils.normalize(X, axis=1)\n",
    "# X = X / 255.0\n",
    "\n",
    "model = Sequential()\n",
    "# Input layer\n",
    "model.add(Conv2D(64, (3, 3), input_shape = X.shape[1:]))\n",
    "model.add(Activation(\"relu\"))\n",
    "model.add(MaxPooling2D(pool_size=(2, 2)))\n",
    "\n",
    "# Layer\n",
    "model.add(Conv2D(64, (3, 3)))\n",
    "model.add(Activation(\"relu\"))\n",
    "model.add(MaxPooling2D(pool_size=(2, 2)))\n",
    "\n",
    "# Flatten Layer\n",
    "model.add(Flatten())\n",
    "model.add(Dense(64))\n",
    "\n",
    "# Output layer\n",
    "model.add(Dense(1))\n",
    "model.add(Activation(\"sigmoid\"))\n",
    "\n",
    "model.compile(loss=\"binary_crossentropy\",\n",
    "             optimizer=\"adam\",\n",
    "             metrics=[\"accuracy\"])\n",
    "\n",
    "\n"
   ]
  },
  {
   "cell_type": "code",
   "execution_count": 22,
   "metadata": {},
   "outputs": [
    {
     "name": "stdout",
     "output_type": "stream",
     "text": [
      "Train on 4989 samples, validate on 19957 samples\n",
      "Epoch 1/3\n",
      "4989/4989 [==============================] - 28s 6ms/sample - loss: 0.4313 - accuracy: 0.7935 - val_loss: 0.4792 - val_accuracy: 0.7799\n",
      "Epoch 2/3\n",
      "4989/4989 [==============================] - 27s 5ms/sample - loss: 0.4133 - accuracy: 0.8068 - val_loss: 0.5022 - val_accuracy: 0.7668\n",
      "Epoch 3/3\n",
      "4989/4989 [==============================] - 28s 6ms/sample - loss: 0.3965 - accuracy: 0.8222 - val_loss: 0.5310 - val_accuracy: 0.7555\n",
      "24946/24946 [==============================] - 23s 933us/sample - loss: 0.5046 - accuracy: 0.7664\n",
      "\n",
      "Loss: 0.50462\n",
      "Accuracy: 0.76642\n"
     ]
    }
   ],
   "source": [
    "model.fit(X, y, batch_size=64, validation_split=0.8, epochs=3)\n",
    "val_loss, val_accuracy = model.evaluate(X, y)\n",
    "\n",
    "print()\n",
    "print(f\"Loss: {val_loss:>5.5f}\")\n",
    "print(f\"Accuracy: {val_accuracy:>5.5f}\")"
   ]
  },
  {
   "cell_type": "code",
   "execution_count": null,
   "metadata": {},
   "outputs": [],
   "source": []
  }
 ],
 "metadata": {
  "kernelspec": {
   "display_name": "Python 3",
   "language": "python",
   "name": "python3"
  },
  "language_info": {
   "codemirror_mode": {
    "name": "ipython",
    "version": 3
   },
   "file_extension": ".py",
   "mimetype": "text/x-python",
   "name": "python",
   "nbconvert_exporter": "python",
   "pygments_lexer": "ipython3",
   "version": "3.7.6"
  }
 },
 "nbformat": 4,
 "nbformat_minor": 4
}
