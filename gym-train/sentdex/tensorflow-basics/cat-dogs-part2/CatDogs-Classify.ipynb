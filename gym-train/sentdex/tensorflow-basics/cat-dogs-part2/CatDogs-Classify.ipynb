{
 "cells": [
  {
   "cell_type": "code",
   "execution_count": null,
   "metadata": {},
   "outputs": [],
   "source": [
    "import numpy as np\n",
    "import matplotlib.pyplot as plt\n",
    "import os\n",
    "import cv2\n",
    "\n",
    "\n",
    "# PROJECT_DIR = \"./cat-dogs-part2\"\n",
    "DATA_DIR = \"./PetImages\"\n",
    "CATEGORIES = [\"Dog\", \"Cat\"]\n",
    "IM_SIZE = 60\n",
    "\n",
    "try:\n",
    "    STATS = np.load(\"stats.npy\", allow_pickle=True)\n",
    "except FileNotFoundError as fnf:\n",
    "    print(\"Not found stats file.\")\n",
    "    STATS = []\n"
   ]
  },
  {
   "cell_type": "code",
   "execution_count": null,
   "metadata": {},
   "outputs": [],
   "source": [
    "training_data = []\n",
    "\n",
    "def create_training_data():\n",
    "    for category in CATEGORIES:                \n",
    "        path = os.path.join(DATA_DIR, category)\n",
    "        class_num = CATEGORIES.index(category)\n",
    "        \n",
    "        for img in os.listdir(path):\n",
    "            try:\n",
    "                img_array = cv2.imread(os.path.join(path, img), cv2.IMREAD_GRAYSCALE)\n",
    "                new_array = cv2.resize(img_array, (IM_SIZE, IM_SIZE))\n",
    "                training_data.append([new_array, class_num])\n",
    "            except Exception as e:\n",
    "                pass\n",
    "                # print(f\"broken image: {path}/{img}\")\n",
    "            \n",
    "    print(\"Created training data!\")\n",
    "    \n",
    "\n",
    "create_training_data()"
   ]
  },
  {
   "cell_type": "code",
   "execution_count": null,
   "metadata": {},
   "outputs": [],
   "source": [
    "# Balance data 50% cat and 50% dogs if possible\n",
    "# Shuffle data!\n",
    "import random\n",
    "\n",
    "random.shuffle(training_data)\n",
    "\n",
    "X = []\n",
    "y = []\n",
    "\n",
    "for features, label in training_data:\n",
    "    X.append(features)\n",
    "    y.append(label)\n",
    "\n",
    "X = np.array(X).reshape(-1, IM_SIZE, IM_SIZE, 1)\n",
    "\n",
    "\n",
    "plt.imshow(X[0, :, :, 0], cmap='gray')\n",
    "print(\"Random animal:\")\n",
    "plt.show()"
   ]
  },
  {
   "cell_type": "code",
   "execution_count": null,
   "metadata": {},
   "outputs": [],
   "source": [
    "np.save(\"training_X.npy\", X)\n",
    "np.save(\"training_y.npy\", y)"
   ]
  },
  {
   "cell_type": "code",
   "execution_count": null,
   "metadata": {},
   "outputs": [],
   "source": [
    "X = np.load(\"training_X.npy\")\n",
    "y = np.load(\"training_y.npy\")"
   ]
  },
  {
   "cell_type": "code",
   "execution_count": null,
   "metadata": {},
   "outputs": [],
   "source": [
    "plt.imshow(X[0][:, :, 0], cmap='gray')\n",
    "plt.show()\n",
    "\n",
    "print(X.shape)\n",
    "print(y.shape)"
   ]
  },
  {
   "cell_type": "code",
   "execution_count": null,
   "metadata": {
    "scrolled": false
   },
   "outputs": [],
   "source": [
    "import tensorflow as tf\n",
    "from tensorflow.keras.models import Sequential\n",
    "from tensorflow.keras.layers import Dense, Dropout, Activation, Flatten, Conv2D, MaxPooling2D\n",
    "\n",
    "X = tf.keras.utils.normalize(X, axis=1)\n",
    "# X = X / 255.0\n",
    "\n",
    "\n",
    "# Limit gpu memory usage\n",
    "config = tf.compat.v1.ConfigProto()\n",
    "config.gpu_options.allow_growth = True\n",
    "config.gpu_options.per_process_gpu_memory_fraction = 0.2\n",
    "session = tf.compat.v1.Session(config=config)\n",
    "\n",
    "model = Sequential()\n",
    "\n",
    "# Input conv layer\n",
    "model.add(Conv2D(128, (3, 3), input_shape = X.shape[1:]))\n",
    "model.add(Activation(\"relu\"))\n",
    "model.add(MaxPooling2D(pool_size=(3, 3)))\n",
    "\n",
    "model.add(Conv2D(64, (3, 3)))\n",
    "model.add(Activation(\"relu\"))\n",
    "model.add(MaxPooling2D(pool_size=(3, 3)))\n",
    "\n",
    "# Flatten Layer\n",
    "model.add(Flatten())\n",
    "model.add(Dense(64))\n",
    "\n",
    "# Output layer\n",
    "model.add(Dense(1))\n",
    "model.add(Activation(\"sigmoid\"))\n",
    "\n",
    "model.compile(loss=\"binary_crossentropy\",\n",
    "             optimizer=\"adam\",\n",
    "             metrics=[\"accuracy\"])\n",
    "\n",
    "epochs = 20\n",
    "batch = 50\n",
    "validation_fraction = 0.4\n",
    "\n",
    "model.fit(X, y, batch_size=batch, validation_split=validation_fraction, epochs=epochs)\n",
    "val_loss, val_accuracy = model.evaluate(X, y)\n",
    "\n",
    "model_text = []\n",
    "model.summary(print_fn=lambda x: model_text.append(x))\n",
    "model_text = '\\n'.join(model_text)\n",
    "\n",
    "stats = {\"model\": model_text,\n",
    "         \"accuracy\": val_accuracy, \"loss\": val_loss,\n",
    "         \"epochs\": epochs, \"batch\": batch, \"validation_chunk\":validation_fraction}\n",
    "STATS.append(stats)\n",
    "np.save(\"stats.npy\", STATS)"
   ]
  },
  {
   "cell_type": "code",
   "execution_count": null,
   "metadata": {
    "scrolled": true
   },
   "outputs": [],
   "source": [
    "SHOW_MODEL = False\n",
    "\n",
    "for key, value in STATS[-1].items():\n",
    "    if not SHOW_MODEL and key == \"model\":\n",
    "        continue\n",
    "    print(f\"{key:<15}: {value:>2.4f}\")\n",
    "\n"
   ]
  },
  {
   "cell_type": "code",
   "execution_count": null,
   "metadata": {},
   "outputs": [],
   "source": [
    "SHOW_MODEL = False\n",
    "SHOW_LAST = 5\n",
    "\n",
    "for i in range(1, SHOW_LAST + 1):\n",
    "    print(f\"= = Last model = = {i}\")\n",
    "    for key, value in STATS[-i].items():\n",
    "        if not SHOW_MODEL and key == \"model\":\n",
    "            continue\n",
    "        print(f\"{key:<15}: {value:>2.4f}\")"
   ]
  },
  {
   "cell_type": "code",
   "execution_count": null,
   "metadata": {},
   "outputs": [],
   "source": []
  }
 ],
 "metadata": {
  "kernelspec": {
   "display_name": "Python 3",
   "language": "python",
   "name": "python3"
  },
  "language_info": {
   "codemirror_mode": {
    "name": "ipython",
    "version": 3
   },
   "file_extension": ".py",
   "mimetype": "text/x-python",
   "name": "python",
   "nbconvert_exporter": "python",
   "pygments_lexer": "ipython3",
   "version": "3.7.7"
  }
 },
 "nbformat": 4,
 "nbformat_minor": 4
}
