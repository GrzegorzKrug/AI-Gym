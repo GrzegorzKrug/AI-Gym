{
 "cells": [
  {
   "cell_type": "code",
   "execution_count": 1,
   "metadata": {},
   "outputs": [
    {
     "name": "stderr",
     "output_type": "stream",
     "text": [
      "Using TensorFlow backend.\n"
     ]
    }
   ],
   "source": [
    "from keras.models import Model\n",
    "from keras.layers import Dropout, Dense, Input\n",
    "from keras.optimizers import Adam\n",
    "\n",
    "import tensorflow as tf\n",
    "import keras.backend as backend\n",
    "import numpy as np"
   ]
  },
  {
   "cell_type": "code",
   "execution_count": 2,
   "metadata": {},
   "outputs": [],
   "source": [
    "config = tf.compat.v1.ConfigProto() \n",
    "config.gpu_options.allow_growth = True \n",
    "config.gpu_options.per_process_gpu_memory_fraction = 0.3 \n",
    "sess = tf.compat.v1.Session(config=config)"
   ]
  },
  {
   "cell_type": "code",
   "execution_count": 3,
   "metadata": {},
   "outputs": [],
   "source": [
    "LETTERS = 10"
   ]
  },
  {
   "cell_type": "code",
   "execution_count": 4,
   "metadata": {},
   "outputs": [],
   "source": [
    "def create_model():\n",
    "    NODES = 512\n",
    "    inp = Input(shape=(10,))\n",
    "    \n",
    "    dense1 = Dense(NODES, activation='relu')(inp)\n",
    "    drop1 = Dropout(0.5)(dense1)\n",
    "    dense2 = Dense(NODES, activation='relu')(drop1)\n",
    "    drop2 = Dropout(0.5)(dense2)\n",
    "    dense3 = Dense(NODES, activation='relu')(drop2)\n",
    "    \n",
    "    letters = Dense(LETTERS, activation='relu')(dense3)\n",
    "    \n",
    "    \n",
    "    model = Model(inputs=inp, outputs=letters)\n",
    "    model.compile(optimizer=Adam(lr=1e-4), loss='mae', metrics=['accuracy'])\n",
    "    \n",
    "    return model\n"
   ]
  },
  {
   "cell_type": "code",
   "execution_count": 5,
   "metadata": {},
   "outputs": [],
   "source": [
    "model = create_model()"
   ]
  },
  {
   "cell_type": "code",
   "execution_count": 6,
   "metadata": {},
   "outputs": [
    {
     "name": "stdout",
     "output_type": "stream",
     "text": [
      "[0.61538462 0.34615385 0.19230769 0.73076923 0.19230769 0.42307692\n",
      " 0.         0.         0.         0.        ]\n",
      "PIESEK@@@@\n"
     ]
    }
   ],
   "source": [
    "def normalize_array(arr):            \n",
    "    out = np.zeros(LETTERS)\n",
    "    out[:len(arr)] = arr    \n",
    "    return out\n",
    "\n",
    "def str_to_arr(text):\n",
    "    text = text.upper()\n",
    "    out = []\n",
    "    for letter in text:        \n",
    "        num = ord(letter)-64\n",
    "        if 0 <= num <= 26:\n",
    "            out.append(num / 26)    \n",
    "    out = normalize_array(out)\n",
    "    return out\n",
    "\n",
    "def arr_to_str(arr):\n",
    "    if type(arr[0]) is np.ndarray or type(arr[0]) is list:\n",
    "        out = [_arr_to_str(_ar) for _ar in arr]\n",
    "    else:\n",
    "        out = _arr_to_str(arr)\n",
    "    return out\n",
    "\n",
    "def _arr_to_str(arr):        \n",
    "    text = ''\n",
    "    for num in arr:\n",
    "        num *= 26\n",
    "        num = np.round(num)\n",
    "        num = int(num)\n",
    "        if 0 <= num <= 26:\n",
    "            text += chr(num+64)\n",
    "    return text\n",
    "\n",
    "text = 'piesek'\n",
    "print(str_to_arr(text))\n",
    "print(arr_to_str(str_to_arr(text)))"
   ]
  },
  {
   "cell_type": "code",
   "execution_count": 7,
   "metadata": {},
   "outputs": [],
   "source": [
    "\n",
    "\n",
    "pairs = [(\"kot\", \"kot\"),\n",
    "         (\"koty\", \"kot\"),\n",
    "         (\"kota\", \"kot\"),\n",
    "         (\"kotów\", \"kot\"),\n",
    "         (\"kotu\", \"kot\"),\n",
    "         (\"kotom\", \"kot\"),\n",
    "         (\"kota\", \"kot\"),\n",
    "         (\"koty\", \"kot\"),\n",
    "         (\"kotem\", \"kot\"),\n",
    "         (\"kotami\", \"kot\"),\n",
    "         (\"kocie\", \"kot\"),\n",
    "         (\"kotach\", \"kot\"),\n",
    "         (\"kocie\", \"kot\"),\n",
    "         (\"koty\", \"kot\"),\n",
    "         (\"kotek\", \"kot\"),\n",
    "        (\"pies\", \"pies\")]\n",
    "\n",
    "pairs_test = [\n",
    "    (\"dom\", \"dom\"),\n",
    "    (\"domek\", \"dom\")]\n",
    "\n",
    "X = []\n",
    "Y = []\n",
    "\n",
    "X_test = []\n",
    "Y_test = []\n",
    "\n",
    "for flex, normal in pairs:\n",
    "    X.append(str_to_arr(flex))\n",
    "    Y.append(str_to_arr(normal))\n",
    "\n",
    "for flex, normal in pairs_test:\n",
    "    X_test.append(str_to_arr(flex))\n",
    "    Y_test.append(str_to_arr(normal))\n",
    "\n",
    "X = np.array(X)\n",
    "Y = np.array(Y)\n",
    "\n",
    "X_test = np.array(X_test)\n",
    "Y_test = np.array(Y_test)\n",
    "    "
   ]
  },
  {
   "cell_type": "code",
   "execution_count": 8,
   "metadata": {},
   "outputs": [],
   "source": [
    "history = model.fit(X, Y, epochs=1000, verbose=0)"
   ]
  },
  {
   "cell_type": "code",
   "execution_count": 9,
   "metadata": {},
   "outputs": [
    {
     "name": "stdout",
     "output_type": "stream",
     "text": [
      "Accuracy: 0.9375\n",
      "Loss: 0.0118\n",
      "Validaiton was not done\n"
     ]
    }
   ],
   "source": [
    "loss = history.history['loss']\n",
    "accuracy = history.history['accuracy']\n",
    "\n",
    "print(f\"Accuracy: {accuracy[-1]:>2.4f}\")\n",
    "print(f\"Loss: {loss[-1]:>2.4f}\")\n",
    "\n",
    "try:\n",
    "    val_loss = history.history['val_loss']\n",
    "    val_accuracy = history.history['val_accuracy']\n",
    "\n",
    "    print(f\"Test Accuracy: {val_accuracy[-1]:>2.4f}\")\n",
    "    print(f\"Test loss: {val_loss[-1]:>2.4f}\")\n",
    "except KeyError as ke:\n",
    "    print(\"Validaiton was not done\")"
   ]
  },
  {
   "cell_type": "code",
   "execution_count": 10,
   "metadata": {},
   "outputs": [
    {
     "name": "stdout",
     "output_type": "stream",
     "text": [
      "['ILP@@@@@@@', 'HKP@@@@@@@']\n"
     ]
    }
   ],
   "source": [
    "out = model.predict(X_test)\n",
    "\n",
    "a = arr_to_str(out)\n",
    "\n",
    "print(a)\n",
    "\n"
   ]
  },
  {
   "cell_type": "code",
   "execution_count": null,
   "metadata": {},
   "outputs": [],
   "source": []
  }
 ],
 "metadata": {
  "kernelspec": {
   "display_name": "Python 3",
   "language": "python",
   "name": "python3"
  },
  "language_info": {
   "codemirror_mode": {
    "name": "ipython",
    "version": 3
   },
   "file_extension": ".py",
   "mimetype": "text/x-python",
   "name": "python",
   "nbconvert_exporter": "python",
   "pygments_lexer": "ipython3",
   "version": "3.7.7"
  }
 },
 "nbformat": 4,
 "nbformat_minor": 4
}
