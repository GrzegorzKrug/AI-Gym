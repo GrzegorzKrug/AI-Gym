{
 "cells": [
  {
   "cell_type": "code",
   "execution_count": 1,
   "metadata": {},
   "outputs": [
    {
     "name": "stderr",
     "output_type": "stream",
     "text": [
      "Using TensorFlow backend.\n"
     ]
    }
   ],
   "source": [
    "from keras.models import Model\n",
    "from keras.layers import Dropout, Dense, Input\n",
    "from keras.optimizers import Adam\n",
    "\n",
    "import tensorflow as tf\n",
    "import keras.backend as backend\n",
    "import numpy as np"
   ]
  },
  {
   "cell_type": "code",
   "execution_count": 2,
   "metadata": {},
   "outputs": [],
   "source": [
    "config = tf.compat.v1.ConfigProto() \n",
    "config.gpu_options.allow_growth = True \n",
    "config.gpu_options.per_process_gpu_memory_fraction = 0.3 \n",
    "sess = tf.compat.v1.Session(config=config)"
   ]
  },
  {
   "cell_type": "code",
   "execution_count": 3,
   "metadata": {},
   "outputs": [],
   "source": [
    "LETTERS = 10"
   ]
  },
  {
   "cell_type": "code",
   "execution_count": 4,
   "metadata": {},
   "outputs": [],
   "source": [
    "def create_model():\n",
    "    inp = Input(shape=(10,))\n",
    "    \n",
    "    dense1 = Dense(215, activation='relu')(inp)\n",
    "    drop1 = Dropout(0.02)(dense1)\n",
    "    dense2 = Dense(215, activation='relu')(drop1)\n",
    "    \n",
    "    letters = Dense(LETTERS, activation='relu')(dense2)\n",
    "    \n",
    "    \n",
    "    model = Model(inputs=inp, outputs=letters)\n",
    "    model.compile(optimizer=Adam(lr=1e-4), loss='mae', metrics=['accuracy'])\n",
    "    \n",
    "    return model\n"
   ]
  },
  {
   "cell_type": "code",
   "execution_count": 5,
   "metadata": {},
   "outputs": [],
   "source": [
    "model = create_model()"
   ]
  },
  {
   "cell_type": "code",
   "execution_count": 6,
   "metadata": {},
   "outputs": [
    {
     "name": "stdout",
     "output_type": "stream",
     "text": [
      "[11, 15, 20, 5, 11]\n",
      "JNSDJ\n"
     ]
    }
   ],
   "source": [
    "def conv_str_to_arr(text):\n",
    "    text = text.upper()\n",
    "    out = []\n",
    "    for letter in text:        \n",
    "        num = ord(letter)-64\n",
    "        if 0 <= num <= 26:\n",
    "            out.append(num)        \n",
    "    return out\n",
    "\n",
    "def conv_arr_to_str(arr):\n",
    "    text = ''\n",
    "    for num in arr:\n",
    "        if 0 <= num <= 26:\n",
    "            num = np.round(num)\n",
    "            num = int(num)\n",
    "            text += chr(num+64)\n",
    "    return text\n",
    "\n",
    "print(conv_str_to_arr('kotek'))\n",
    "print(conv_arr_to_str([10, 14, 19, 4, 10]))"
   ]
  },
  {
   "cell_type": "code",
   "execution_count": 7,
   "metadata": {},
   "outputs": [
    {
     "name": "stdout",
     "output_type": "stream",
     "text": [
      "[[0.42307692 0.57692308 0.76923077 0.42307692 0.34615385 0.19230769\n",
      "  0.5        0.         0.         0.        ]]\n"
     ]
    }
   ],
   "source": [
    "def normalize_array(arr):\n",
    "    if type(arr[0]) is not list:\n",
    "        arr = [arr]\n",
    "    \n",
    "    arr = np.array([np.array(row) for row in arr])\n",
    "    rows = len(arr)\n",
    "    \n",
    "    arr = arr / 26\n",
    "    out = np.zeros((rows, LETTERS))\n",
    "    for ri, row in enumerate(arr):\n",
    "        out[ri, 0:len(row)] = row\n",
    "    \n",
    "    return out\n",
    "\n",
    "arr = [conv_str_to_arr('kotkiem')]\n",
    "out = normalize_array(arr)\n",
    "print(out)"
   ]
  },
  {
   "cell_type": "code",
   "execution_count": 8,
   "metadata": {},
   "outputs": [],
   "source": [
    "pairs = [('kotek', 'kot'), ('kotkiem', 'kot'), ('domkiem', 'dom'), ('autem', 'auto'), ('duda', 'duda'), ('kot', 'kot'),\n",
    "        ('chomik', 'chomik'), ('chomikiem', 'chomik'), ('putina', 'putin')]\n",
    "X = []\n",
    "Y = []\n",
    "\n",
    "for flex, normal in pairs:\n",
    "    X.append(conv_str_to_arr(flex))\n",
    "    Y.append(conv_str_to_arr(normal))\n",
    "\n",
    "\n",
    "X = normalize_array(X)\n",
    "Y = normalize_array(Y)\n",
    "# print(X)\n",
    "# print(Y)\n",
    "    "
   ]
  },
  {
   "cell_type": "code",
   "execution_count": 9,
   "metadata": {},
   "outputs": [],
   "source": [
    "history = model.fit(X, Y, validation_split=0.4, epochs=10000, verbose=0)"
   ]
  },
  {
   "cell_type": "code",
   "execution_count": 10,
   "metadata": {},
   "outputs": [
    {
     "name": "stdout",
     "output_type": "stream",
     "text": [
      "Accuracy: 1.0000\n",
      "Loss: 0.0146\n",
      "Test Accuracy: 0.7500\n",
      "Test loss: 0.1159\n"
     ]
    }
   ],
   "source": [
    "loss = history.history['loss']\n",
    "accuracy = history.history['accuracy']\n",
    "\n",
    "val_loss = history.history['val_loss']\n",
    "val_accuracy = history.history['val_accuracy']\n",
    "\n",
    "print(f\"Accuracy: {accuracy[-1]:>2.4f}\")\n",
    "print(f\"Loss: {loss[-1]:>2.4f}\")\n",
    "\n",
    "print(f\"Test Accuracy: {val_accuracy[-1]:>2.4f}\")\n",
    "print(f\"Test loss: {val_loss[-1]:>2.4f}\")"
   ]
  },
  {
   "cell_type": "code",
   "execution_count": 11,
   "metadata": {},
   "outputs": [
    {
     "name": "stdout",
     "output_type": "stream",
     "text": [
      "(1, 10)\n",
      "KOTEK@@@@@\n",
      "KOT@@@@@@@\n"
     ]
    }
   ],
   "source": [
    "test = X[0, :].reshape(-1, LETTERS)\n",
    "print(test.shape)\n",
    "out = model.predict(test)\n",
    "\n",
    "a = conv_arr_to_str(X[0, :]*26)\n",
    "b = conv_arr_to_str(out[0]*26)\n",
    "\n",
    "print(a)\n",
    "print(b)\n"
   ]
  },
  {
   "cell_type": "code",
   "execution_count": null,
   "metadata": {},
   "outputs": [],
   "source": []
  }
 ],
 "metadata": {
  "kernelspec": {
   "display_name": "Python 3",
   "language": "python",
   "name": "python3"
  },
  "language_info": {
   "codemirror_mode": {
    "name": "ipython",
    "version": 3
   },
   "file_extension": ".py",
   "mimetype": "text/x-python",
   "name": "python",
   "nbconvert_exporter": "python",
   "pygments_lexer": "ipython3",
   "version": "3.7.7"
  }
 },
 "nbformat": 4,
 "nbformat_minor": 4
}
